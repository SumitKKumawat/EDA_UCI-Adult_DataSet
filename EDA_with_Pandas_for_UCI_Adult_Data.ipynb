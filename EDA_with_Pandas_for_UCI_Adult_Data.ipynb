{
  "nbformat": 4,
  "nbformat_minor": 0,
  "metadata": {
    "colab": {
      "name": "EDA with Pandas for UCI Adult Data.ipynb",
      "version": "0.3.2",
      "provenance": [],
      "collapsed_sections": [],
      "include_colab_link": true
    },
    "kernelspec": {
      "name": "python3",
      "display_name": "Python 3"
    }
  },
  "cells": [
    {
      "cell_type": "markdown",
      "metadata": {
        "id": "view-in-github",
        "colab_type": "text"
      },
      "source": [
        "<a href=\"https://colab.research.google.com/github/SumitKKumawat/EDA_UCI-Adult_DataSet/blob/master/EDA_with_Pandas_for_UCI_Adult_Data.ipynb\" target=\"_parent\"><img src=\"https://colab.research.google.com/assets/colab-badge.svg\" alt=\"Open In Colab\"/></a>"
      ]
    },
    {
      "cell_type": "code",
      "metadata": {
        "id": "TphFKeLYbvR0",
        "colab_type": "code",
        "colab": {
          "base_uri": "https://localhost:8080/",
          "height": 34
        },
        "outputId": "cc8125e1-907f-4dba-98ca-99bae32c46e6"
      },
      "source": [
        "!ls"
      ],
      "execution_count": 2,
      "outputs": [
        {
          "output_type": "stream",
          "text": [
            "adultdata.csv  sample_data\n"
          ],
          "name": "stdout"
        }
      ]
    },
    {
      "cell_type": "markdown",
      "metadata": {
        "id": "MVrzPsMf5TN4",
        "colab_type": "text"
      },
      "source": [
        "\n",
        "## Feature Description\n",
        "\n",
        "**age:** continuous.\n",
        "\n",
        "**workclass:** Private, Self-emp-not-inc, Self-emp-inc, Federal-gov, Local-gov, State-gov, Without-pay, Never-worked.\n",
        "\n",
        "**fnlwgt:** continuous.\n",
        "\n",
        "**education:** Bachelors, Some-college, 11th, HS-grad, Prof-school, Assoc-acdm, Assoc-voc, 9th, 7th-8th, 12th, Masters, 1st-4th, 10th, Doctorate, 5th-6th, Preschool.\n",
        "\n",
        "**education-num:** continuous.\n",
        "\n",
        "**marital-status:** Married-civ-spouse, Divorced, Never-married, Separated, Widowed, Married-spouse-absent, Married-AF-spouse.\n",
        "\n",
        "**occupation:** Tech-support, Craft-repair, Other-service, Sales, Exec-managerial, Prof-specialty, Handlers-cleaners, Machine-op-inspct, Adm-clerical, Farming-fishing, Transport-moving, Priv-house-serv, Protective-serv, Armed-Forces.\n",
        "\n",
        "**relationship:** Wife, Own-child, Husband, Not-in-family, Other-relative, Unmarried.\n",
        "\n",
        "**race:** White, Asian-Pac-Islander, Amer-Indian-Eskimo, Other, Black.\n",
        "\n",
        "**sex:** Female, Male.\n",
        "\n",
        "**capital-gain:** continuous.\n",
        "\n",
        "**capital-loss:** continuous.\n",
        "\n",
        "**hours-per-week:** continuous.\n",
        "\n",
        "**native-country:** United-States, Cambodia, England, Puerto-Rico, Canada, Germany, Outlying-US(Guam-USVI-etc), India, Japan, Greece, South, China, Cuba, Iran, Honduras, Philippines, Italy, Poland, Jamaica, Vietnam, Mexico, Portugal, Ireland, France, Dominican-Republic, Laos, Ecuador, Taiwan, Haiti, Columbia, Hungary, Guatemala, Nicaragua, Scotland, Thailand, Yugoslavia, El-Salvador, Trinadad&Tobago, Peru, Hong, Holand-Netherlands.\n",
        "\n",
        "**salary:** >50K,<=50K\n"
      ]
    },
    {
      "cell_type": "code",
      "metadata": {
        "id": "8EegVTr746lZ",
        "colab_type": "code",
        "colab": {}
      },
      "source": [
        "import numpy as np\n",
        "import pandas as pd"
      ],
      "execution_count": 0,
      "outputs": []
    },
    {
      "cell_type": "code",
      "metadata": {
        "id": "jekzf3NS46m9",
        "colab_type": "code",
        "colab": {
          "base_uri": "https://localhost:8080/",
          "height": 383
        },
        "outputId": "e57a3ff4-c0bb-4e45-da68-8ae3c763b4d7"
      },
      "source": [
        "Data = pd.read_csv('adultdata.csv')\n",
        "Data.head()"
      ],
      "execution_count": 4,
      "outputs": [
        {
          "output_type": "execute_result",
          "data": {
            "text/html": [
              "<div>\n",
              "<style scoped>\n",
              "    .dataframe tbody tr th:only-of-type {\n",
              "        vertical-align: middle;\n",
              "    }\n",
              "\n",
              "    .dataframe tbody tr th {\n",
              "        vertical-align: top;\n",
              "    }\n",
              "\n",
              "    .dataframe thead th {\n",
              "        text-align: right;\n",
              "    }\n",
              "</style>\n",
              "<table border=\"1\" class=\"dataframe\">\n",
              "  <thead>\n",
              "    <tr style=\"text-align: right;\">\n",
              "      <th></th>\n",
              "      <th>age</th>\n",
              "      <th>workclass</th>\n",
              "      <th>fnlwgt</th>\n",
              "      <th>education</th>\n",
              "      <th>education-num</th>\n",
              "      <th>marital-status</th>\n",
              "      <th>occupation</th>\n",
              "      <th>relationship</th>\n",
              "      <th>race</th>\n",
              "      <th>sex</th>\n",
              "      <th>capital-gain</th>\n",
              "      <th>capital-loss</th>\n",
              "      <th>hours-per-week</th>\n",
              "      <th>native-country</th>\n",
              "      <th>salary</th>\n",
              "    </tr>\n",
              "  </thead>\n",
              "  <tbody>\n",
              "    <tr>\n",
              "      <th>0</th>\n",
              "      <td>39</td>\n",
              "      <td>State-gov</td>\n",
              "      <td>77516</td>\n",
              "      <td>Bachelors</td>\n",
              "      <td>13</td>\n",
              "      <td>Never-married</td>\n",
              "      <td>Adm-clerical</td>\n",
              "      <td>Not-in-family</td>\n",
              "      <td>White</td>\n",
              "      <td>Male</td>\n",
              "      <td>2174</td>\n",
              "      <td>0</td>\n",
              "      <td>40</td>\n",
              "      <td>United-States</td>\n",
              "      <td>&lt;=50K</td>\n",
              "    </tr>\n",
              "    <tr>\n",
              "      <th>1</th>\n",
              "      <td>50</td>\n",
              "      <td>Self-emp-not-inc</td>\n",
              "      <td>83311</td>\n",
              "      <td>Bachelors</td>\n",
              "      <td>13</td>\n",
              "      <td>Married-civ-spouse</td>\n",
              "      <td>Exec-managerial</td>\n",
              "      <td>Husband</td>\n",
              "      <td>White</td>\n",
              "      <td>Male</td>\n",
              "      <td>0</td>\n",
              "      <td>0</td>\n",
              "      <td>13</td>\n",
              "      <td>United-States</td>\n",
              "      <td>&lt;=50K</td>\n",
              "    </tr>\n",
              "    <tr>\n",
              "      <th>2</th>\n",
              "      <td>38</td>\n",
              "      <td>Private</td>\n",
              "      <td>215646</td>\n",
              "      <td>HS-grad</td>\n",
              "      <td>9</td>\n",
              "      <td>Divorced</td>\n",
              "      <td>Handlers-cleaners</td>\n",
              "      <td>Not-in-family</td>\n",
              "      <td>White</td>\n",
              "      <td>Male</td>\n",
              "      <td>0</td>\n",
              "      <td>0</td>\n",
              "      <td>40</td>\n",
              "      <td>United-States</td>\n",
              "      <td>&lt;=50K</td>\n",
              "    </tr>\n",
              "    <tr>\n",
              "      <th>3</th>\n",
              "      <td>53</td>\n",
              "      <td>Private</td>\n",
              "      <td>234721</td>\n",
              "      <td>11th</td>\n",
              "      <td>7</td>\n",
              "      <td>Married-civ-spouse</td>\n",
              "      <td>Handlers-cleaners</td>\n",
              "      <td>Husband</td>\n",
              "      <td>Black</td>\n",
              "      <td>Male</td>\n",
              "      <td>0</td>\n",
              "      <td>0</td>\n",
              "      <td>40</td>\n",
              "      <td>United-States</td>\n",
              "      <td>&lt;=50K</td>\n",
              "    </tr>\n",
              "    <tr>\n",
              "      <th>4</th>\n",
              "      <td>28</td>\n",
              "      <td>Private</td>\n",
              "      <td>338409</td>\n",
              "      <td>Bachelors</td>\n",
              "      <td>13</td>\n",
              "      <td>Married-civ-spouse</td>\n",
              "      <td>Prof-specialty</td>\n",
              "      <td>Wife</td>\n",
              "      <td>Black</td>\n",
              "      <td>Female</td>\n",
              "      <td>0</td>\n",
              "      <td>0</td>\n",
              "      <td>40</td>\n",
              "      <td>Cuba</td>\n",
              "      <td>&lt;=50K</td>\n",
              "    </tr>\n",
              "  </tbody>\n",
              "</table>\n",
              "</div>"
            ],
            "text/plain": [
              "   age         workclass  fnlwgt  education  education-num  \\\n",
              "0   39         State-gov   77516  Bachelors             13   \n",
              "1   50  Self-emp-not-inc   83311  Bachelors             13   \n",
              "2   38           Private  215646    HS-grad              9   \n",
              "3   53           Private  234721       11th              7   \n",
              "4   28           Private  338409  Bachelors             13   \n",
              "\n",
              "       marital-status         occupation   relationship   race     sex  \\\n",
              "0       Never-married       Adm-clerical  Not-in-family  White    Male   \n",
              "1  Married-civ-spouse    Exec-managerial        Husband  White    Male   \n",
              "2            Divorced  Handlers-cleaners  Not-in-family  White    Male   \n",
              "3  Married-civ-spouse  Handlers-cleaners        Husband  Black    Male   \n",
              "4  Married-civ-spouse     Prof-specialty           Wife  Black  Female   \n",
              "\n",
              "   capital-gain  capital-loss  hours-per-week native-country salary  \n",
              "0          2174             0              40  United-States  <=50K  \n",
              "1             0             0              13  United-States  <=50K  \n",
              "2             0             0              40  United-States  <=50K  \n",
              "3             0             0              40  United-States  <=50K  \n",
              "4             0             0              40           Cuba  <=50K  "
            ]
          },
          "metadata": {
            "tags": []
          },
          "execution_count": 4
        }
      ]
    },
    {
      "cell_type": "markdown",
      "metadata": {
        "id": "Lgyb63x07Jvg",
        "colab_type": "text"
      },
      "source": [
        "1. How many men and women (sex feature) are represented in this dataset?"
      ]
    },
    {
      "cell_type": "code",
      "metadata": {
        "id": "7LfP41cT46pd",
        "colab_type": "code",
        "colab": {
          "base_uri": "https://localhost:8080/",
          "height": 67
        },
        "outputId": "699edaee-9a58-4625-a7a9-678f22639642"
      },
      "source": [
        "#Count of all the unique inputs in column 'Sex'\n",
        "Data['sex'].value_counts()"
      ],
      "execution_count": 6,
      "outputs": [
        {
          "output_type": "execute_result",
          "data": {
            "text/plain": [
              "Male      21790\n",
              "Female    10771\n",
              "Name: sex, dtype: int64"
            ]
          },
          "metadata": {
            "tags": []
          },
          "execution_count": 6
        }
      ]
    },
    {
      "cell_type": "markdown",
      "metadata": {
        "id": "4M9zDMMs7vZ_",
        "colab_type": "text"
      },
      "source": [
        "2. What is the average age (age feature) of women?"
      ]
    },
    {
      "cell_type": "code",
      "metadata": {
        "id": "0pzn5rcd46sD",
        "colab_type": "code",
        "colab": {
          "base_uri": "https://localhost:8080/",
          "height": 34
        },
        "outputId": "889d073a-6fd2-46bd-bafd-83673fa5747c"
      },
      "source": [
        "#Simple way using column indexing\n",
        "Data[Data['sex'] == 'Female']['age'].mean()"
      ],
      "execution_count": 8,
      "outputs": [
        {
          "output_type": "execute_result",
          "data": {
            "text/plain": [
              "36.85823043357163"
            ]
          },
          "metadata": {
            "tags": []
          },
          "execution_count": 8
        }
      ]
    },
    {
      "cell_type": "code",
      "metadata": {
        "id": "z9rJpB4846xI",
        "colab_type": "code",
        "colab": {
          "base_uri": "https://localhost:8080/",
          "height": 34
        },
        "outputId": "424d6d6e-760d-46a4-b169-1d86bf2061e3"
      },
      "source": [
        "# by Using loc function\n",
        "Data.loc[Data['sex'] == 'Female', 'age'].mean()"
      ],
      "execution_count": 9,
      "outputs": [
        {
          "output_type": "execute_result",
          "data": {
            "text/plain": [
              "36.85823043357163"
            ]
          },
          "metadata": {
            "tags": []
          },
          "execution_count": 9
        }
      ]
    },
    {
      "cell_type": "markdown",
      "metadata": {
        "id": "TMSjRThg9Sau",
        "colab_type": "text"
      },
      "source": [
        "3. What is the proportion of German citizens (native-country feature)?"
      ]
    },
    {
      "cell_type": "code",
      "metadata": {
        "id": "S8SPV7xc4603",
        "colab_type": "code",
        "colab": {
          "base_uri": "https://localhost:8080/",
          "height": 34
        },
        "outputId": "989fb6b1-04ed-4fcf-b32f-d19b30d3bf58"
      },
      "source": [
        "# Get the sum of all the native of Germany in decimal using float and devide by total count of countries to get the proportion\n",
        "print((float((Data['native-country'] == 'Germany').sum()) / Data['native-country'].count())*100,\"%\")\n"
      ],
      "execution_count": 18,
      "outputs": [
        {
          "output_type": "stream",
          "text": [
            "0.42074874850281013 %\n"
          ],
          "name": "stdout"
        }
      ]
    },
    {
      "cell_type": "markdown",
      "metadata": {
        "id": "JXQgx0r9A04E",
        "colab_type": "text"
      },
      "source": [
        "4. What are the mean and standard deviation of age for those who earn more than 50K per year (salary feature) ?"
      ]
    },
    {
      "cell_type": "code",
      "metadata": {
        "id": "8BHlpOYk468X",
        "colab_type": "code",
        "colab": {
          "base_uri": "https://localhost:8080/",
          "height": 34
        },
        "outputId": "4a8b8d1c-8e2d-4442-f016-26f14891d381"
      },
      "source": [
        "AvgAge = Data[Data['salary'] == '>50K']['age'].mean()\n",
        "StdDivAge=Data[Data['salary'] == '>50K']['age'].std()\n",
        "\n",
        "print(\"The average age and Standard Deviation for >50K earnings are: {0} & {1} years.\".format(AvgAge,StdDivAge))"
      ],
      "execution_count": 35,
      "outputs": [
        {
          "output_type": "stream",
          "text": [
            "The average age and Standard Deviation for >50K earnings are: 44.24984058155847 & 10.51902771985177 years.\n"
          ],
          "name": "stdout"
        }
      ]
    },
    {
      "cell_type": "markdown",
      "metadata": {
        "id": "XvpoEgQEBMxN",
        "colab_type": "text"
      },
      "source": [
        "5. What are the mean and standard deviation of age for those who earn less than 50K per year (salary feature) ?"
      ]
    },
    {
      "cell_type": "code",
      "metadata": {
        "id": "996iJkQQ46-C",
        "colab_type": "code",
        "colab": {
          "base_uri": "https://localhost:8080/",
          "height": 34
        },
        "outputId": "0bc5fa57-ccd7-4fbc-c84c-2ba889ddde42"
      },
      "source": [
        "AvgAge = Data[Data['salary'] == '<=50K']['age'].mean()\n",
        "StdDivAge=Data[Data['salary'] == '<=50K']['age'].std()\n",
        "\n",
        "print(\"The average age and Standard Deviation for <=50K earnings are: {0} & {1} years.\".format(AvgAge,StdDivAge))"
      ],
      "execution_count": 36,
      "outputs": [
        {
          "output_type": "stream",
          "text": [
            "The average age and Standard Deviation for <=50K earnings are: 36.78373786407767 & 14.020088490824813 years.\n"
          ],
          "name": "stdout"
        }
      ]
    },
    {
      "cell_type": "markdown",
      "metadata": {
        "id": "0ebZZiikH2I-",
        "colab_type": "text"
      },
      "source": [
        "6. Is it true that people who receive more than 50k have at least high school education? (education - Bachelors, Prof-school, Assoc-acdm, Assoc-voc, Masters or Doctorate feature)"
      ]
    },
    {
      "cell_type": "code",
      "metadata": {
        "id": "3AT4b5TY47Bj",
        "colab_type": "code",
        "colab": {
          "base_uri": "https://localhost:8080/",
          "height": 67
        },
        "outputId": "c08480af-29d3-4772-de51-58d71f6d7fb5"
      },
      "source": [
        "Data.loc[Data['salary'] == '>50K'] ['education'].unique()\n",
        "# as per data, it looks people with earning >50K are less educated as well, so answer is no"
      ],
      "execution_count": 37,
      "outputs": [
        {
          "output_type": "execute_result",
          "data": {
            "text/plain": [
              "array(['HS-grad', 'Masters', 'Bachelors', 'Some-college', 'Assoc-voc',\n",
              "       'Doctorate', 'Prof-school', 'Assoc-acdm', '7th-8th', '12th',\n",
              "       '10th', '11th', '9th', '5th-6th', '1st-4th'], dtype=object)"
            ]
          },
          "metadata": {
            "tags": []
          },
          "execution_count": 37
        }
      ]
    },
    {
      "cell_type": "code",
      "metadata": {
        "id": "G_ak-qAj46ul",
        "colab_type": "code",
        "colab": {
          "base_uri": "https://localhost:8080/",
          "height": 1697
        },
        "outputId": "05cba76d-ac9f-441f-df3d-4164e8910a3a"
      },
      "source": [
        "for (race, sex), sub_df in Data.groupby(['race', 'sex']):\n",
        "    print(\"Race: {0}, sex: {1}\".format(race, sex))\n",
        "    print(sub_df['age'].describe())"
      ],
      "execution_count": 39,
      "outputs": [
        {
          "output_type": "stream",
          "text": [
            "Race: Amer-Indian-Eskimo, sex: Female\n",
            "count    119.000000\n",
            "mean      37.117647\n",
            "std       13.114991\n",
            "min       17.000000\n",
            "25%       27.000000\n",
            "50%       36.000000\n",
            "75%       46.000000\n",
            "max       80.000000\n",
            "Name: age, dtype: float64\n",
            "Race: Amer-Indian-Eskimo, sex: Male\n",
            "count    192.000000\n",
            "mean      37.208333\n",
            "std       12.049563\n",
            "min       17.000000\n",
            "25%       28.000000\n",
            "50%       35.000000\n",
            "75%       45.000000\n",
            "max       82.000000\n",
            "Name: age, dtype: float64\n",
            "Race: Asian-Pac-Islander, sex: Female\n",
            "count    346.000000\n",
            "mean      35.089595\n",
            "std       12.300845\n",
            "min       17.000000\n",
            "25%       25.000000\n",
            "50%       33.000000\n",
            "75%       43.750000\n",
            "max       75.000000\n",
            "Name: age, dtype: float64\n",
            "Race: Asian-Pac-Islander, sex: Male\n",
            "count    693.000000\n",
            "mean      39.073593\n",
            "std       12.883944\n",
            "min       18.000000\n",
            "25%       29.000000\n",
            "50%       37.000000\n",
            "75%       46.000000\n",
            "max       90.000000\n",
            "Name: age, dtype: float64\n",
            "Race: Black, sex: Female\n",
            "count    1555.000000\n",
            "mean       37.854019\n",
            "std        12.637197\n",
            "min        17.000000\n",
            "25%        28.000000\n",
            "50%        37.000000\n",
            "75%        46.000000\n",
            "max        90.000000\n",
            "Name: age, dtype: float64\n",
            "Race: Black, sex: Male\n",
            "count    1569.000000\n",
            "mean       37.682600\n",
            "std        12.882612\n",
            "min        17.000000\n",
            "25%        27.000000\n",
            "50%        36.000000\n",
            "75%        46.000000\n",
            "max        90.000000\n",
            "Name: age, dtype: float64\n",
            "Race: Other, sex: Female\n",
            "count    109.000000\n",
            "mean      31.678899\n",
            "std       11.631599\n",
            "min       17.000000\n",
            "25%       23.000000\n",
            "50%       29.000000\n",
            "75%       39.000000\n",
            "max       74.000000\n",
            "Name: age, dtype: float64\n",
            "Race: Other, sex: Male\n",
            "count    162.000000\n",
            "mean      34.654321\n",
            "std       11.355531\n",
            "min       17.000000\n",
            "25%       26.000000\n",
            "50%       32.000000\n",
            "75%       42.000000\n",
            "max       77.000000\n",
            "Name: age, dtype: float64\n",
            "Race: White, sex: Female\n",
            "count    8642.000000\n",
            "mean       36.811618\n",
            "std        14.329093\n",
            "min        17.000000\n",
            "25%        25.000000\n",
            "50%        35.000000\n",
            "75%        46.000000\n",
            "max        90.000000\n",
            "Name: age, dtype: float64\n",
            "Race: White, sex: Male\n",
            "count    19174.000000\n",
            "mean        39.652498\n",
            "std         13.436029\n",
            "min         17.000000\n",
            "25%         29.000000\n",
            "50%         38.000000\n",
            "75%         49.000000\n",
            "max         90.000000\n",
            "Name: age, dtype: float64\n"
          ],
          "name": "stdout"
        }
      ]
    },
    {
      "cell_type": "code",
      "metadata": {
        "id": "K5DBLC9846jL",
        "colab_type": "code",
        "colab": {}
      },
      "source": [
        ""
      ],
      "execution_count": 0,
      "outputs": []
    }
  ]
}